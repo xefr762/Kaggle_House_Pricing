{
 "cells": [
  {
   "cell_type": "code",
   "execution_count": 1,
   "id": "e13a1f75-e83c-4ad0-ba38-77fa37ff33e5",
   "metadata": {},
   "outputs": [],
   "source": [
    "# base\n",
    "import pandas as pd\n",
    "import numpy as np\n",
    "import matplotlib.pyplot as plt\n",
    "import seaborn as sns\n",
    "\n",
    "import tqdm as notebook_tqdm\n",
    "\n",
    "# Важная настройка для корректной настройки pipeline!\n",
    "import sklearn\n",
    "sklearn.set_config(transform_output=\"pandas\")\n",
    "\n",
    "# Pipeline\n",
    "from sklearn.compose import ColumnTransformer\n",
    "from sklearn.pipeline import Pipeline, make_pipeline\n",
    "from sklearn.base import BaseEstimator, TransformerMixin\n",
    "\n",
    "# Preprocessing\n",
    "from sklearn.impute import SimpleImputer\n",
    "from sklearn.decomposition import PCA\n",
    "from sklearn.preprocessing import OneHotEncoder, StandardScaler, RobustScaler, MinMaxScaler, OrdinalEncoder, TargetEncoder, PowerTransformer\n",
    "from sklearn.model_selection import GridSearchCV, KFold\n",
    "\n",
    "# for model learning \n",
    "from sklearn.model_selection import train_test_split, RandomizedSearchCV, cross_val_score\n",
    "\n",
    "#models\n",
    "from sklearn.neighbors import KNeighborsClassifier, RadiusNeighborsClassifier\n",
    "from sklearn.linear_model import LogisticRegression\n",
    "from sklearn.tree import DecisionTreeClassifier\n",
    "from sklearn.ensemble import RandomForestRegressor\n",
    "from catboost import CatBoostRegressor\n",
    "#from category_encoders.cat_boost import CatBoostEncoder\n",
    "from sklearn.svm import SVC\n",
    "from catboost import CatBoostClassifier\n",
    "from xgboost import XGBRegressor\n",
    "\n",
    "# Metrics\n",
    "from sklearn.metrics import accuracy_score, f1_score, confusion_matrix, recall_score, precision_score, mean_absolute_error, root_mean_squared_error, mean_absolute_percentage_error, mean_squared_error\n",
    "\n",
    "# tunning hyperparamters model\n",
    "import optuna\n",
    "\n",
    "from sklearn.feature_selection import mutual_info_regression\n",
    "\n",
    "\n",
    "pd.set_option('display.max_columns', 100)\n",
    "pd.set_option('display.max_rows', 100)"
   ]
  },
  {
   "cell_type": "code",
   "execution_count": 2,
   "id": "5454d99c-cea7-42d1-b307-169f4fbee46c",
   "metadata": {},
   "outputs": [],
   "source": [
    "train = pd.read_csv('data/train.csv', index_col=\"Id\")\n",
    "test = pd.read_csv('data/test.csv', index_col=\"Id\")"
   ]
  },
  {
   "cell_type": "code",
   "execution_count": 3,
   "id": "ed1ea5a7-a2ef-4740-a6f0-d61b9d610625",
   "metadata": {},
   "outputs": [],
   "source": [
    "X_train, y = train.drop('SalePrice', axis=1), train['SalePrice']"
   ]
  },
  {
   "cell_type": "code",
   "execution_count": 4,
   "id": "b0ff5425-9e65-4451-856a-7c60c8bfd1f1",
   "metadata": {},
   "outputs": [],
   "source": [
    "all_data = pd.concat([X_train, test])\n",
    "y = np.log1p(y)"
   ]
  },
  {
   "cell_type": "code",
   "execution_count": 5,
   "id": "9ffffff4-a0f9-4125-b8d6-96fb9d1508c4",
   "metadata": {},
   "outputs": [
    {
     "name": "stdout",
     "output_type": "stream",
     "text": [
      "MSZoning           4\n",
      "LotFrontage      486\n",
      "Alley           2721\n",
      "Utilities          2\n",
      "Exterior1st        1\n",
      "Exterior2nd        1\n",
      "MasVnrType      1766\n",
      "MasVnrArea        23\n",
      "BsmtQual          81\n",
      "BsmtCond          82\n",
      "BsmtExposure      82\n",
      "BsmtFinType1      79\n",
      "BsmtFinSF1         1\n",
      "BsmtFinType2      80\n",
      "BsmtFinSF2         1\n",
      "BsmtUnfSF          1\n",
      "TotalBsmtSF        1\n",
      "Electrical         1\n",
      "BsmtFullBath       2\n",
      "BsmtHalfBath       2\n",
      "KitchenQual        1\n",
      "Functional         2\n",
      "FireplaceQu     1420\n",
      "GarageType       157\n",
      "GarageYrBlt      159\n",
      "GarageFinish     159\n",
      "GarageCars         1\n",
      "GarageArea         1\n",
      "GarageQual       159\n",
      "GarageCond       159\n",
      "PoolQC          2909\n",
      "Fence           2348\n",
      "MiscFeature     2814\n",
      "SaleType           1\n",
      "dtype: int64\n"
     ]
    }
   ],
   "source": [
    "missing_val_count_by_column = (all_data.isnull().sum())\n",
    "print(missing_val_count_by_column[missing_val_count_by_column > 0])"
   ]
  },
  {
   "cell_type": "raw",
   "id": "7f19b685-9088-4727-9323-f7d0ea5384e4",
   "metadata": {},
   "source": [
    "Functional       0.008974\n",
    "RoofStyle        0.007753\n",
    "RoofMatl         0.006883\n",
    "BsmtFinSF2       0.005521\n",
    "LowQualFinSF     0.005492\n",
    "LandSlope        0.001887\n",
    "Street           0.000534\n",
    "Condition2       0.000484\n",
    "3SsnPorch        0.000000\n",
    "PoolArea         0.000000\n",
    "MiscVal          0.000000\n",
    "MiscFeature      0.000000\n",
    "Utilities        0.000000\n",
    "PoolQC           0.000000\n",
    "MoSold           0.000000"
   ]
  },
  {
   "cell_type": "raw",
   "id": "8d9089f3-0dbd-4367-b67f-eeb91612b303",
   "metadata": {},
   "source": [
    "MasVnrArea       0.090505\n",
    "ReNew            0.083624\n",
    "EnclosedPorch    0.019680\n",
    "ScreenPorch      0.019645\n",
    "BsmtFinSF2       0.004958\n",
    "LowQualFinSF     0.003949"
   ]
  },
  {
   "cell_type": "raw",
   "id": "a0314f66-6dae-4528-bb84-71444704359a",
   "metadata": {},
   "source": [
    "LandContour      0.029321\n",
    "Alley            0.026434\n",
    "BsmtFinType2     0.025870\n",
    "ExterCond        0.023736\n",
    "Condition1       0.022511\n",
    "LotConfig        0.018960\n",
    "Heating          0.012779\n",
    "RoofStyle        0.011255\n",
    "Condition2       0.007483\n",
    "RoofMatl         0.004798\n",
    "LandSlope        0.002636\n",
    "Functional       0.000000"
   ]
  },
  {
   "cell_type": "code",
   "execution_count": 6,
   "id": "6d10f1da-be98-40fa-90d3-84b0702a1da1",
   "metadata": {},
   "outputs": [],
   "source": [
    "all_data.drop(['Functional', 'LandSlope', 'RoofMatl', 'Condition2', 'RoofStyle', 'Heating', 'LotConfig'], axis=1, inplace=True)"
   ]
  },
  {
   "cell_type": "code",
   "execution_count": 7,
   "id": "b841df24-3175-49f4-871b-92e636f1bcf0",
   "metadata": {},
   "outputs": [],
   "source": [
    "all_data.drop(['LowQualFinSF', 'BsmtFinSF2', 'ScreenPorch', 'EnclosedPorch', 'MasVnrArea'], axis=1, inplace=True)"
   ]
  },
  {
   "cell_type": "code",
   "execution_count": 8,
   "id": "138be592-0edf-4b4c-b5bc-7504fb237da1",
   "metadata": {},
   "outputs": [],
   "source": [
    "all_data.drop(['MoSold', 'Street', 'Utilities', 'MiscVal', 'PoolArea', 'PoolQC', '3SsnPorch', 'MiscFeature'], axis=1, inplace=True)"
   ]
  },
  {
   "cell_type": "code",
   "execution_count": 9,
   "id": "e184fb17-3256-4f5e-8dc8-4ed1d582e1ef",
   "metadata": {},
   "outputs": [],
   "source": [
    "#NA_cols = ['Alley', 'BsmtQual', 'BsmtCond', 'BsmtExposure', 'BsmtFinType1', 'BsmtFinType2', 'FireplaceQu', 'GarageType', 'GarageFinish', 'GarageQual', 'GarageCond', 'PoolQC', 'Fence', 'MiscFeature']\n",
    "\n",
    "#all_data[NA_cols].isna().sum()"
   ]
  },
  {
   "cell_type": "code",
   "execution_count": 10,
   "id": "947489b9-e52d-408a-86ba-bd3e2480c787",
   "metadata": {},
   "outputs": [],
   "source": [
    "#all_data['MSSubClass'] = all_data['MSSubClass'].astype(str)\n",
    "#all_data['YrSold'] = all_data['YrSold'].astype(str)\n",
    "#all_data['MoSold'] = all_data['MoSold'].astype(str)\n",
    "#all_data['GarageYrBlt'] = all_data['GarageYrBlt'].astype(str)"
   ]
  },
  {
   "cell_type": "code",
   "execution_count": 11,
   "id": "c9f21db0-11ca-4547-8a42-b74fba581256",
   "metadata": {},
   "outputs": [],
   "source": [
    "all_data['MSSubClass'] = all_data['MSSubClass'].astype(str)\n",
    "all_data['YrSold'] = all_data['YrSold'].astype(str)\n",
    "#all_data['MoSold'] = all_data['MoSold'].astype(str)\n",
    "all_data['YearBuilt'] = all_data['YearBuilt'].astype(str)\n",
    "all_data['GarageYrBlt'] = all_data['GarageYrBlt'].astype(str)\n",
    "all_data['OverallQual'] = all_data['OverallQual'].astype(str)\n",
    "all_data['OverallCond'] = all_data['OverallCond'].astype(str)"
   ]
  },
  {
   "cell_type": "code",
   "execution_count": 12,
   "id": "05e311f6-0342-46ea-8cdb-dde7f3602bb4",
   "metadata": {},
   "outputs": [],
   "source": [
    "#for cols in numerical_cols:\n",
    "#    miss = all_data[cols].isna().sum()\n",
    "#    if miss > 0:\n",
    "#        print(f'{cols}: {miss}')"
   ]
  },
  {
   "cell_type": "code",
   "execution_count": 13,
   "id": "38d2e4ae-c59e-4764-a5ed-8bf80e067abf",
   "metadata": {},
   "outputs": [],
   "source": [
    "categorical_cols = [col_name for col_name in all_data.columns if all_data[col_name].dtype == 'object']\n",
    "numerical_cols = [col_name for col_name in all_data.columns if all_data[col_name].dtype != 'object']"
   ]
  },
  {
   "cell_type": "code",
   "execution_count": 14,
   "id": "8dbb375e-76cc-4a8e-abc1-17617506d068",
   "metadata": {},
   "outputs": [],
   "source": [
    "imputer = ColumnTransformer(\n",
    "    transformers = [\n",
    "        (\"num_imputer\", SimpleImputer(strategy=\"constant\", fill_value=0), numerical_cols),\n",
    "        (\"cat_imputer\", SimpleImputer(strategy=\"constant\", fill_value='NA'), categorical_cols)\n",
    "    ],\n",
    "    verbose_feature_names_out = False,\n",
    "    remainder = \"passthrough\"\n",
    ")"
   ]
  },
  {
   "cell_type": "code",
   "execution_count": 15,
   "id": "b7453905-4992-4c8b-b66e-2c0671598aaf",
   "metadata": {},
   "outputs": [],
   "source": [
    "all_data = imputer.fit_transform(all_data)"
   ]
  },
  {
   "cell_type": "code",
   "execution_count": 16,
   "id": "1ed56483-76cb-4ecf-b442-66ce76907f08",
   "metadata": {},
   "outputs": [
    {
     "data": {
      "text/plain": [
       "59"
      ]
     },
     "execution_count": 16,
     "metadata": {},
     "output_type": "execute_result"
    }
   ],
   "source": [
    "len(all_data.columns)"
   ]
  },
  {
   "cell_type": "code",
   "execution_count": 17,
   "id": "b744d2c0-23b9-4c44-8f10-f3bcdf7e9ff6",
   "metadata": {},
   "outputs": [],
   "source": [
    "# New features\n",
    "all_data['Average_Qual'] = all_data['OverallQual'].astype(int) + all_data['OverallCond'].astype(int)\n",
    "#drop\n",
    "all_data.drop(['OverallQual', 'OverallCond'], axis=1, inplace=True)\n",
    "\n",
    "all_data['CompAge'] = all_data['YrSold'].astype(int) - all_data['YearBuilt'].astype(int)\n",
    "all_data['ReNew'] = all_data['YearRemodAdd'].astype(int) - all_data['YearBuilt'].astype(int)\n",
    "#drop\n",
    "all_data.drop(['YrSold', 'YearBuilt', 'YearRemodAdd'], axis=1, inplace=True)\n",
    "\n",
    "all_data['Baths'] = all_data['BsmtFullBath'] + all_data['FullBath'] + (0.5 * all_data['HalfBath']) + (0.5 * all_data['BsmtHalfBath'])\n",
    "#drop\n",
    "all_data.drop(['BsmtFullBath', 'FullBath', 'HalfBath', 'BsmtHalfBath'], axis=1, inplace=True)\n",
    "\n",
    "all_data['HQArea'] = all_data['GrLivArea'] + all_data['1stFlrSF'] + all_data['2ndFlrSF'] + 0.5 * all_data['GarageArea'] + 0.5 * all_data['TotalBsmtSF']\n",
    "#drop\n",
    "all_data.drop(['GrLivArea', '1stFlrSF', '2ndFlrSF', 'GarageArea', 'TotalBsmtSF'], axis=1, inplace=True)"
   ]
  },
  {
   "cell_type": "code",
   "execution_count": 18,
   "id": "2e96fbb9-d6ac-4128-abf3-3c3d8c98f597",
   "metadata": {},
   "outputs": [],
   "source": [
    "categorical_cols = [col_name for col_name in all_data.columns if all_data[col_name].dtype == 'object']\n",
    "numerical_cols = [col_name for col_name in all_data.columns if all_data[col_name].dtype != 'object']\n",
    "# columns for encoding\n",
    "ordinal_low_encoding_cols = [col_name for col_name in all_data[categorical_cols] if all_data[col_name].nunique() < 3]\n",
    "ordinal_high_encoding_cols = [col_name for col_name in all_data[categorical_cols] if all_data[col_name].nunique() > 9]\n",
    "one_hot_encoding_cols = [col_name for col_name in all_data[categorical_cols] if all_data[col_name].nunique() > 2\n",
    "                         and all_data[col_name].nunique() < 10]\n",
    "\n",
    "# columns for scaling\n",
    "scaler_cols = [col_name for col_name in all_data[numerical_cols] if (all_data[col_name] > 10).any()]"
   ]
  },
  {
   "cell_type": "code",
   "execution_count": 19,
   "id": "195da032-dc05-4362-a3bf-f6c4fa654d6d",
   "metadata": {},
   "outputs": [],
   "source": [
    "# encoders\n",
    "ordinal_encoder = OrdinalEncoder()\n",
    "one_hot_encoder = OneHotEncoder(sparse_output=False)\n",
    "\n",
    "#scaler\n",
    "s_scaler = StandardScaler()\n",
    "\n",
    "# pipeline for encoder and scaler\n",
    "encoder_scaler = ColumnTransformer(\n",
    "    [\n",
    "        (\"ordinal_encoding\", ordinal_encoder, ordinal_low_encoding_cols + ordinal_high_encoding_cols),\n",
    "        (\"one_hot_encoding\", one_hot_encoder, one_hot_encoding_cols),\n",
    "        (\"scaling_num_cols\", s_scaler, scaler_cols)\n",
    "    ],\n",
    "    verbose_feature_names_out = False,\n",
    "    remainder = 'passthrough'\n",
    ")"
   ]
  },
  {
   "cell_type": "code",
   "execution_count": 20,
   "id": "a811e158-b749-403c-a812-79a7937b006c",
   "metadata": {},
   "outputs": [],
   "source": [
    "# encoders\n",
    "ordinal_encoder = OrdinalEncoder()\n",
    "one_hot_encoder = OneHotEncoder(sparse_output=False)\n",
    "\n",
    "#scaler\n",
    "s_scaler = StandardScaler()\n",
    "\n",
    "# pipeline for encoder and scaler\n",
    "scaler = ColumnTransformer(\n",
    "    [\n",
    "        #(\"ordinal_encoding\", ordinal_encoder, categorical_cols),#ordinal_low_encoding_cols + ordinal_high_encoding_cols),\n",
    "        #(\"one_hot_encoding\", one_hot_encoder, one_hot_encoding_cols),\n",
    "        (\"scaling_num_cols\", s_scaler, scaler_cols)\n",
    "    ],\n",
    "    verbose_feature_names_out = False\n",
    ")"
   ]
  },
  {
   "cell_type": "code",
   "execution_count": 21,
   "id": "f7f00ffd-235d-4b47-b9b5-7ed2096edbed",
   "metadata": {},
   "outputs": [],
   "source": [
    "# encoders\n",
    "ordinal_encoder = OrdinalEncoder()\n",
    "one_hot_encoder = OneHotEncoder(sparse_output=False)\n",
    "\n",
    "#scaler\n",
    "s_scaler = StandardScaler()\n",
    "\n",
    "# pipeline for encoder and scaler\n",
    "encoder = ColumnTransformer(\n",
    "    [\n",
    "        (\"ordinal_encoding\", ordinal_encoder, categorical_cols),#ordinal_low_encoding_cols + ordinal_high_encoding_cols),\n",
    "        #(\"one_hot_encoding\", one_hot_encoder, one_hot_encoding_cols),\n",
    "        #(\"scaling_num_cols\", s_scaler, scaler_cols)\n",
    "    ],\n",
    "    verbose_feature_names_out = False\n",
    ")"
   ]
  },
  {
   "cell_type": "code",
   "execution_count": 22,
   "id": "900128e0-e4b0-4b6a-bcd4-42739b752d06",
   "metadata": {},
   "outputs": [],
   "source": [
    "all_data = encoder_scaler.fit_transform(all_data)"
   ]
  },
  {
   "cell_type": "code",
   "execution_count": 23,
   "id": "73486057-2a20-4d12-aab3-c2e2fd9230a6",
   "metadata": {},
   "outputs": [],
   "source": [
    "encoder_scaler_ord = ColumnTransformer(\n",
    "    [\n",
    "        (\"scaling_enc_cols\", s_scaler, categorical_cols)\n",
    "    ],\n",
    "    verbose_feature_names_out = False,\n",
    "    remainder = 'passthrough'\n",
    ")"
   ]
  },
  {
   "cell_type": "code",
   "execution_count": 24,
   "id": "6ad5d600-ac7a-48cd-b05f-0aaf433fdfdf",
   "metadata": {},
   "outputs": [],
   "source": [
    "#all_data = encoder_scaler_ord.fit_transform(all_data)"
   ]
  },
  {
   "cell_type": "code",
   "execution_count": 25,
   "id": "989d3b38-9e8f-4511-87ba-4e955daeb987",
   "metadata": {},
   "outputs": [],
   "source": [
    "X, test = all_data.iloc[:y.shape[0]], all_data.iloc[y.shape[0]:]"
   ]
  },
  {
   "cell_type": "code",
   "execution_count": 26,
   "id": "3035e437-b392-4d71-ae95-68c2e3404349",
   "metadata": {},
   "outputs": [
    {
     "data": {
      "text/plain": [
       "((1460, 169), (1459, 169))"
      ]
     },
     "execution_count": 26,
     "metadata": {},
     "output_type": "execute_result"
    }
   ],
   "source": [
    "X.shape, test.shape"
   ]
  },
  {
   "cell_type": "code",
   "execution_count": 27,
   "id": "b1eaf8e0-f696-4620-9df0-e1425954bb49",
   "metadata": {},
   "outputs": [
    {
     "data": {
      "text/plain": [
       "Index(['CentralAir', 'MSSubClass', 'Neighborhood', 'Exterior1st',\n",
       "       'Exterior2nd', 'GarageYrBlt', 'SaleType', 'MSZoning_C (all)',\n",
       "       'MSZoning_FV', 'MSZoning_NA',\n",
       "       ...\n",
       "       'OpenPorchSF', 'Average_Qual', 'CompAge', 'ReNew', 'HQArea',\n",
       "       'BedroomAbvGr', 'KitchenAbvGr', 'Fireplaces', 'GarageCars', 'Baths'],\n",
       "      dtype='object', length=169)"
      ]
     },
     "execution_count": 27,
     "metadata": {},
     "output_type": "execute_result"
    }
   ],
   "source": [
    "X.columns"
   ]
  },
  {
   "cell_type": "code",
   "execution_count": 28,
   "id": "61e734c3-5377-41ce-a682-f20dc31acfd6",
   "metadata": {},
   "outputs": [],
   "source": [
    "X_train, X_valid, y_train, y_valid = train_test_split(X, y, test_size=0.2, random_state=42)"
   ]
  },
  {
   "cell_type": "code",
   "execution_count": 29,
   "id": "2fa0b642-9e92-417a-8d33-0da37c414466",
   "metadata": {},
   "outputs": [],
   "source": [
    "rfc = RandomForestRegressor(n_estimators=250, random_state=1)\n",
    "\n",
    "rfc.fit(X_train, y_train)\n",
    "\n",
    "y_train_rfc = rfc.predict(X_train)\n",
    "y_valid_rfc = rfc.predict(X_valid)"
   ]
  },
  {
   "cell_type": "code",
   "execution_count": 30,
   "id": "ed28c627-9178-46f7-b031-d96053b2306b",
   "metadata": {},
   "outputs": [
    {
     "data": {
      "text/plain": [
       "0.04968984582063331"
      ]
     },
     "metadata": {},
     "output_type": "display_data"
    },
    {
     "data": {
      "text/plain": [
       "0.14609079045982418"
      ]
     },
     "metadata": {},
     "output_type": "display_data"
    }
   ],
   "source": [
    "display(root_mean_squared_error((y_train), (y_train_rfc)))\n",
    "display(root_mean_squared_error(y_valid, (y_valid_rfc)))"
   ]
  },
  {
   "cell_type": "code",
   "execution_count": 31,
   "id": "984f0c9e-4c3b-4553-b611-749695b36c9e",
   "metadata": {},
   "outputs": [
    {
     "name": "stderr",
     "output_type": "stream",
     "text": [
      "/home/sergei/miniconda3/envs/python312/lib/python3.12/site-packages/xgboost/core.py:158: UserWarning: [21:23:37] WARNING: /home/conda/feedstock_root/build_artifacts/xgboost-split_1733179782501/work/src/common/error_msg.cc:58: Falling back to prediction using DMatrix due to mismatched devices. This might lead to higher memory usage and slower performance. XGBoost is running on: cuda:0, while the input data is on: cpu.\n",
      "Potential solutions:\n",
      "- Use a data structure that matches the device ordinal in the booster.\n",
      "- Set the device for booster before call to inplace_predict.\n",
      "\n",
      "This warning will only be shown once.\n",
      "\n",
      "  warnings.warn(smsg, UserWarning)\n"
     ]
    }
   ],
   "source": [
    "xgbc = XGBRegressor(n_estimators=2000, learning_rate=0.05, device=\"cuda\")\n",
    "\n",
    "xgbc.fit(X_train, y_train)\n",
    "\n",
    "y_train_xgbc = xgbc.predict(X_train)\n",
    "y_valid_xgbc = xgbc.predict(X_valid)"
   ]
  },
  {
   "cell_type": "code",
   "execution_count": 32,
   "id": "f20651f4-04b3-4bf7-b047-8b3ad263bab8",
   "metadata": {},
   "outputs": [
    {
     "data": {
      "text/plain": [
       "0.0018864627286890661"
      ]
     },
     "metadata": {},
     "output_type": "display_data"
    },
    {
     "data": {
      "text/plain": [
       "0.1411553257490111"
      ]
     },
     "metadata": {},
     "output_type": "display_data"
    }
   ],
   "source": [
    "display(root_mean_squared_error((y_train), (y_train_xgbc)))\n",
    "display(root_mean_squared_error((y_valid), (y_valid_xgbc)))"
   ]
  },
  {
   "cell_type": "code",
   "execution_count": 33,
   "id": "18720f2e-7396-4237-a06a-898fc70d2fb9",
   "metadata": {},
   "outputs": [],
   "source": [
    "best_params = {'max_leaves': 8,\n",
    "          'depth': 3,\n",
    "          'od_wait': 200,\n",
    "          'l2_leaf_reg': 3,\n",
    "          'iterations': 200000,\n",
    "          'model_size_reg': 0.7,\n",
    "          'learning_rate': 0.05,\n",
    "          'random_seed': 42 }\n",
    "final_model = CatBoostRegressor(**best_params)"
   ]
  },
  {
   "cell_type": "code",
   "execution_count": 35,
   "id": "58479c17-4be6-4898-b319-ff4506e28cb0",
   "metadata": {},
   "outputs": [
    {
     "data": {
      "text/plain": [
       "<catboost.core.CatBoostRegressor at 0x76466758e480>"
      ]
     },
     "execution_count": 35,
     "metadata": {},
     "output_type": "execute_result"
    }
   ],
   "source": [
    "final_model.fit(X, y_train, eval_set=(X_valid, y_valid), verbose=False)"
   ]
  },
  {
   "cell_type": "code",
   "execution_count": 36,
   "id": "5d0adb62-6183-49d2-a2d6-09816791ce23",
   "metadata": {},
   "outputs": [],
   "source": [
    "final_pred = final_model.predict(X_valid)"
   ]
  },
  {
   "cell_type": "code",
   "execution_count": 37,
   "id": "aceda983-c865-4c6e-842f-386927400960",
   "metadata": {},
   "outputs": [],
   "source": [
    "def dumb_test_():\n",
    "    \n",
    "    for i in range(0, len(test), 100):\n",
    "        output = all_data.iloc[y.shape[0]:]\n",
    "        tset_pred = final_model.predict(dimb_test)\n",
    "        output = pd.DataFrame({'Id': dimb_test.index, 'SalePrice': tset_pred})\n",
    "        X_dumb_test = pd.concat([X_train, dimb_test])"
   ]
  },
  {
   "cell_type": "code",
   "execution_count": 38,
   "id": "7485e94b-9f68-42cb-b2a9-84ac518d7738",
   "metadata": {},
   "outputs": [],
   "source": [
    "dimb_test = test"
   ]
  },
  {
   "cell_type": "code",
   "execution_count": 39,
   "id": "94d17f3c-ba11-4991-b7bc-151e54eabd0e",
   "metadata": {},
   "outputs": [],
   "source": [
    "tset_pred = final_model.predict(dimb_test)"
   ]
  },
  {
   "cell_type": "code",
   "execution_count": 40,
   "id": "25e9ff33-9181-46b7-8df7-87a69d4417cf",
   "metadata": {},
   "outputs": [],
   "source": [
    "output = pd.DataFrame({'Id': dimb_test.index, 'SalePrice': tset_pred})"
   ]
  },
  {
   "cell_type": "code",
   "execution_count": 41,
   "id": "5fd07a44-7aa0-4bd6-ab79-49d873981ffd",
   "metadata": {},
   "outputs": [],
   "source": [
    "X_dumb_test = pd.concat([X_train, dimb_test])"
   ]
  },
  {
   "cell_type": "code",
   "execution_count": 42,
   "id": "fe788afd-a801-43c9-9f10-d3485440c3ea",
   "metadata": {},
   "outputs": [],
   "source": [
    "output.set_index('Id', inplace=True)\n",
    "output = output[\"SalePrice\"]"
   ]
  },
  {
   "cell_type": "code",
   "execution_count": 43,
   "id": "64803755-1c0c-4550-a314-dade47ebebe2",
   "metadata": {},
   "outputs": [],
   "source": [
    "y_dumb_test = pd.concat([y_train, output])"
   ]
  },
  {
   "cell_type": "code",
   "execution_count": 44,
   "id": "f7809fc9-3522-4d6e-a679-04bf5ad573bc",
   "metadata": {},
   "outputs": [
    {
     "data": {
      "text/plain": [
       "<catboost.core.CatBoostRegressor at 0x76466758e480>"
      ]
     },
     "execution_count": 44,
     "metadata": {},
     "output_type": "execute_result"
    }
   ],
   "source": [
    "final_model.fit(X_dumb_test, y_dumb_test, eval_set=(X_valid, y_valid), verbose=False)"
   ]
  },
  {
   "cell_type": "code",
   "execution_count": 45,
   "id": "d908ef02-1731-4c19-85f6-4db8e071ba56",
   "metadata": {},
   "outputs": [],
   "source": [
    "final_pred = final_model.predict(X_valid)"
   ]
  },
  {
   "cell_type": "code",
   "execution_count": 46,
   "id": "1999f6f4-941d-4185-97dc-f32a1dd77988",
   "metadata": {},
   "outputs": [
    {
     "data": {
      "text/plain": [
       "0.0018864627286890661"
      ]
     },
     "metadata": {},
     "output_type": "display_data"
    },
    {
     "data": {
      "text/plain": [
       "0.13043341392340324"
      ]
     },
     "metadata": {},
     "output_type": "display_data"
    }
   ],
   "source": [
    "display(root_mean_squared_error((y_train), (y_train_xgbc)))\n",
    "display(root_mean_squared_error((y_valid), (final_pred)))"
   ]
  },
  {
   "cell_type": "code",
   "execution_count": 48,
   "id": "7d8a1ba5-4e23-45e1-9c0b-8e47d902c0e0",
   "metadata": {},
   "outputs": [],
   "source": [
    "preds = final_model.predict(test)\n",
    "output = pd.DataFrame({'Id': test.index,\n",
    "                       'SalePrice': np.exp(preds)})\n",
    "output.to_csv('submission_dumb.csv', index=False)"
   ]
  },
  {
   "cell_type": "code",
   "execution_count": null,
   "id": "71090c79-7008-46ec-9b3f-0362c567fbf1",
   "metadata": {},
   "outputs": [],
   "source": [
    "#final_score = rmse(y_valid, final_pred)\n",
    "#final_score"
   ]
  },
  {
   "cell_type": "code",
   "execution_count": null,
   "id": "57148ce7-c26a-450f-a3cc-0b2022c83719",
   "metadata": {},
   "outputs": [],
   "source": [
    "pd.set_option('display.max_rows', 250)\n",
    "mi_scores = mutual_info_regression(X, y)\n",
    "mi_scores = pd.Series(mi_scores, name=\"MI Scores\", index=X.columns)\n",
    "mi_scores = mi_scores.sort_values(ascending=False)\n",
    "print(mi_scores)"
   ]
  },
  {
   "cell_type": "code",
   "execution_count": null,
   "id": "ccd7adce-d41b-4ee4-9cd3-91ea2cc1188e",
   "metadata": {},
   "outputs": [],
   "source": [
    "HQArea           0.641368\n",
    "Neighborhood     0.501150\n",
    "GrLivArea        0.458812\n",
    "GarageCars       0.372359\n",
    "GarageArea       0.365512\n",
    "TotalBsmtSF      0.358823\n",
    "Average_Qual     0.358722\n",
    "Baths            0.344430\n",
    "CompAge          0.333822\n",
    "ExterQual        0.330519\n",
    "KitchenQual      0.328393\n",
    "BsmtQual         0.326441\n",
    "GarageYrBlt      0.299632\n",
    "1stFlrSF         0.298508\n",
    "MSSubClass       0.281000\n",
    "GarageFinish     0.265372\n",
    "TotRmsAbvGrd     0.217212\n",
    "LotFrontage      0.208478\n",
    "GarageType       0.207147\n",
    "FireplaceQu      0.205385\n",
    "2ndFlrSF         0.200384\n",
    "Foundation       0.198323\n",
    "LotArea          0.167144\n",
    "HeatingQC        0.165700\n",
    "Fireplaces       0.165019\n",
    "Exterior2nd      0.163077\n",
    "OpenPorchSF      0.162937\n",
    "BsmtFinType1     0.151554\n",
    "BsmtFinSF1       0.143730\n",
    "Exterior1st      0.132918\n",
    "MSZoning         0.129958\n",
    "BsmtUnfSF        0.126058\n",
    "MasVnrType       0.104167\n",
    "WoodDeckSF       0.102232\n",
    "MasVnrArea       0.096051\n",
    "LotShape         0.090287\n",
    "HouseStyle       0.085631\n",
    "ReNew            0.083815\n",
    "BsmtExposure     0.078226\n",
    "GarageCond       0.076158\n",
    "SaleCondition    0.075143\n",
    "SaleType         0.073050\n",
    "BedroomAbvGr     0.068213\n",
    "GarageQual       0.068207\n",
    "CentralAir       0.064137\n",
    "Electrical       0.052449\n",
    "PavedDrive       0.051687\n",
    "BsmtCond         0.048573\n",
    "BldgType         0.043102\n",
    "Fence            0.039260\n",
    "LandContour      0.026813\n",
    "BsmtFinType2     0.026585\n",
    "EnclosedPorch    0.026282\n",
    "Alley            0.026269\n",
    "KitchenAbvGr     0.020910\n",
    "LotConfig        0.017051\n",
    "ScreenPorch      0.016916\n",
    "ExterCond        0.016535\n",
    "Condition1       0.014328\n",
    "Heating          0.012645\n",
    "Functional       0.008974\n",
    "RoofStyle        0.007753\n",
    "RoofMatl         0.006883\n",
    "BsmtFinSF2       0.005521\n",
    "LowQualFinSF     0.005492\n",
    "LandSlope        0.001887\n",
    "Street           0.000534\n",
    "Condition2       0.000484\n",
    "3SsnPorch        0.000000\n",
    "PoolArea         0.000000\n",
    "MiscVal          0.000000\n",
    "MiscFeature      0.000000\n",
    "Utilities        0.000000\n",
    "PoolQC           0.000000\n",
    "MoSold           0.000000\n"
   ]
  },
  {
   "cell_type": "code",
   "execution_count": null,
   "id": "255ca979-55be-4d4e-a904-de7d8aafe3fb",
   "metadata": {},
   "outputs": [],
   "source": []
  }
 ],
 "metadata": {
  "kernelspec": {
   "display_name": "Python 3 (ipykernel)",
   "language": "python",
   "name": "python3"
  },
  "language_info": {
   "codemirror_mode": {
    "name": "ipython",
    "version": 3
   },
   "file_extension": ".py",
   "mimetype": "text/x-python",
   "name": "python",
   "nbconvert_exporter": "python",
   "pygments_lexer": "ipython3",
   "version": "3.12.7"
  },
  "widgets": {
   "application/vnd.jupyter.widget-state+json": {
    "state": {},
    "version_major": 2,
    "version_minor": 0
   }
  }
 },
 "nbformat": 4,
 "nbformat_minor": 5
}
